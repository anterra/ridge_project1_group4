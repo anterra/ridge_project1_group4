{
 "cells": [
  {
   "cell_type": "markdown",
   "metadata": {},
   "source": [
    "# Project 1: Exploratory Data Analysis\n",
    "\n",
    "## MTA Turnstile Dataset\n",
    "\n",
    "### Chris Doenlen, Vanessa Hu, Jay Park, Matt Ranalletta\n",
    "\n",
    "#### Sources & Reference\n",
    "- [MTA Turnstile Data](http://web.mta.info/developers/turnstile.html)\n",
    "- [MTA Turnstile Data - Codebook](http://web.mta.info/developers/resources/nyct/turnstile/ts_Field_Description.txt)\n",
    "- [MTA NYC Subway Map](http://web.mta.info/maps/Large_Print_Map.pdf)\n",
    "- [Kaggle: MTA Turnstile Data Analysis](https://www.kaggle.com/nieyuqi/mta-turnstile-data-analysis)"
   ]
  },
  {
   "cell_type": "markdown",
   "metadata": {},
   "source": [
    "### Data Compilation and Cleaning\n",
    "\n",
    "1. Retrieve 10 weeks of MTA Turnstile data (July 20, 2019 through Sept 21, 2019) and compile into a single dataframe\n",
    "2. Clean raw data and perform basic manipulations and calculations\n",
    "3. Export final dataset to csv to be used in subsequent notebooks"
   ]
  },
  {
   "cell_type": "markdown",
   "metadata": {},
   "source": [
    "#### Raw Data Import and Treatment"
   ]
  },
  {
   "cell_type": "code",
   "execution_count": null,
   "metadata": {},
   "outputs": [],
   "source": [
    "import numpy as np\n",
    "import pandas as pd"
   ]
  },
  {
   "cell_type": "code",
   "execution_count": null,
   "metadata": {},
   "outputs": [],
   "source": [
    "# MTA Files to read: 10 Week Range 2019-07-20 through 2019-09-21\n",
    "\n",
    "datafiles = ['http://web.mta.info/developers/data/nyct/turnstile/turnstile_190720.txt',\n",
    "            'http://web.mta.info/developers/data/nyct/turnstile/turnstile_190727.txt',\n",
    "            'http://web.mta.info/developers/data/nyct/turnstile/turnstile_190803.txt',\n",
    "            'http://web.mta.info/developers/data/nyct/turnstile/turnstile_190810.txt',\n",
    "            'http://web.mta.info/developers/data/nyct/turnstile/turnstile_190817.txt',\n",
    "            'http://web.mta.info/developers/data/nyct/turnstile/turnstile_190824.txt',\n",
    "            'http://web.mta.info/developers/data/nyct/turnstile/turnstile_190831.txt',\n",
    "            'http://web.mta.info/developers/data/nyct/turnstile/turnstile_190907.txt',\n",
    "            'http://web.mta.info/developers/data/nyct/turnstile/turnstile_190914.txt',\n",
    "            'http://web.mta.info/developers/data/nyct/turnstile/turnstile_190921.txt']"
   ]
  },
  {
   "cell_type": "code",
   "execution_count": null,
   "metadata": {},
   "outputs": [],
   "source": [
    "file_list = []\n",
    "\n",
    "for datafile in datafiles:\n",
    "    df = pd.read_csv(datafile)\n",
    "    file_list.append(df)\n",
    "    \n",
    "mta_raw = pd.concat(file_list)   "
   ]
  },
  {
   "cell_type": "code",
   "execution_count": null,
   "metadata": {},
   "outputs": [],
   "source": [
    "mta_raw.head()"
   ]
  },
  {
   "cell_type": "code",
   "execution_count": null,
   "metadata": {},
   "outputs": [],
   "source": [
    "# Rename columns \n",
    "\n",
    "mta_raw.columns = ['ca',\n",
    "                   'unit',\n",
    "                  'scp',\n",
    "                  'station',\n",
    "                  'linename',\n",
    "                  'division',\n",
    "                  'date',\n",
    "                  'time',\n",
    "                  'desc',\n",
    "                  'entries_cum',\n",
    "                  'exits_cum']"
   ]
  },
  {
   "cell_type": "code",
   "execution_count": null,
   "metadata": {},
   "outputs": [],
   "source": [
    "# Create a timestamp column with datetime object\n",
    "# Convert date data to datetime object\n",
    "\n",
    "mta_raw['timestamp'] = pd.to_datetime(mta_raw['date'] + ' ' + mta_raw['time'])\n",
    "mta_raw['date'] = pd.to_datetime(mta_raw['date'])"
   ]
  },
  {
   "cell_type": "code",
   "execution_count": null,
   "metadata": {},
   "outputs": [],
   "source": [
    "# Create turnstile column as proxy for unique identifier\n",
    "mta_raw['turnstile'] = mta_raw['station'] + '-' + mta_raw['ca'] + '-' + mta_raw['unit'] + '-' + mta_raw['scp']"
   ]
  },
  {
   "cell_type": "markdown",
   "metadata": {},
   "source": [
    "#### Calculating actual entries and exits from cumulative figures"
   ]
  },
  {
   "cell_type": "code",
   "execution_count": null,
   "metadata": {},
   "outputs": [],
   "source": [
    "mta_sorted = mta_raw.sort_values(['turnstile', 'timestamp'])\n",
    "mta_sorted = mta_sorted.reset_index(drop = True)\n",
    "\n",
    "turnstile_grouped = mta_sorted.groupby(['turnstile'])\n",
    "\n",
    "mta_sorted['entries'] = turnstile_grouped['entries_cum'].transform(pd.Series.diff)\n",
    "mta_sorted['exits'] = turnstile_grouped['exits_cum'].transform(pd.Series.diff)"
   ]
  },
  {
   "cell_type": "code",
   "execution_count": null,
   "metadata": {},
   "outputs": [],
   "source": [
    "mta_sorted.head()"
   ]
  },
  {
   "cell_type": "code",
   "execution_count": null,
   "metadata": {},
   "outputs": [],
   "source": [
    "# Delete mta_raw\n",
    "del mta_raw"
   ]
  },
  {
   "cell_type": "markdown",
   "metadata": {},
   "source": [
    "#### Dealing with outliers and messy data\n",
    "\n",
    "Three types of messy data: \n",
    "* **Negative values**: some turnstiles count down, resulting in negative values. Because the dataset is so large, we can afford to convert negative values to NaN and drop them. \n",
    "* **Very large values**: some turnstile counts are unbelievably large. We'll set a threshold of 10,000 entries or exits per turnstile per time period (this translates to ~40 entries/exits per minute, which is feasible). Any values above this threshold will be converted to NaN and dropped.\n",
    "* **Not a number (NaN)**: the majority of these NaN values is because they were the start of our timeperiod for the turnstile and thus had no prior time period to calculate the actual values from the cumulative figures. \n",
    "\n",
    "All three cases will be converted to NaN (if not already NaN) and dropped from the dataset. "
   ]
  },
  {
   "cell_type": "code",
   "execution_count": null,
   "metadata": {},
   "outputs": [],
   "source": [
    "print('Number of negative entries: %d' %len(mta_sorted['entries'][mta_sorted['entries'] < 0]))\n",
    "print('Number of negative exits: %d' %len(mta_sorted['exits'][mta_sorted['exits'] < 0]))\n",
    "print('')\n",
    "print('Number of entries > 10k: %d' %len(mta_sorted['entries'][mta_sorted['entries'] > 10000]))\n",
    "print('Number of exits > 10k: %d' %len(mta_sorted['exits'][mta_sorted['exits'] > 10000]))\n",
    "print('')\n",
    "print('Number of NaN rows: %d' %len(mta_sorted[mta_sorted['entries'].isnull()]))"
   ]
  },
  {
   "cell_type": "code",
   "execution_count": null,
   "metadata": {},
   "outputs": [],
   "source": [
    "# Filtering for negative and above threshold values\n",
    "\n",
    "ents_neg = mta_sorted.loc[:, 'entries'] < 0\n",
    "exits_neg = mta_sorted.loc[:, 'exits'] < 0\n",
    "\n",
    "ents_10k = mta_sorted.loc[:, 'entries'] > 10000\n",
    "exits_10k = mta_sorted.loc[:, 'exits'] > 10000"
   ]
  },
  {
   "cell_type": "code",
   "execution_count": null,
   "metadata": {},
   "outputs": [],
   "source": [
    "# Converting negative and above threshold entries to Nan\n",
    "\n",
    "mta_sorted.loc[ents_neg, 'entries'] = np.nan\n",
    "mta_sorted.loc[exits_neg, 'exits'] = np.nan\n",
    "\n",
    "mta_sorted.loc[ents_10k, 'entries'] = np.nan\n",
    "mta_sorted.loc[exits_10k, 'exits'] = np.nan"
   ]
  },
  {
   "cell_type": "code",
   "execution_count": null,
   "metadata": {},
   "outputs": [],
   "source": [
    "print('Number of negative entries: %d' %len(mta_sorted['entries'][mta_sorted['entries'] < 0]))\n",
    "print('Number of negative exits: %d' %len(mta_sorted['exits'][mta_sorted['exits'] < 0]))\n",
    "print('')\n",
    "print('Number of entries > 10k: %d' %len(mta_sorted['entries'][mta_sorted['entries'] > 10000]))\n",
    "print('Number of exits > 10k: %d' %len(mta_sorted['exits'][mta_sorted['exits'] > 10000]))\n",
    "print('')\n",
    "print('Number of NaN rows: %d' %len(mta_sorted[mta_sorted['entries'].isnull()]))"
   ]
  },
  {
   "cell_type": "code",
   "execution_count": null,
   "metadata": {},
   "outputs": [],
   "source": [
    "# Dropping na values\n",
    "\n",
    "mta_sorted.dropna(inplace=True)"
   ]
  },
  {
   "cell_type": "code",
   "execution_count": null,
   "metadata": {},
   "outputs": [],
   "source": [
    "print('Number of NaN rows: %d' %len(mta_sorted[mta_sorted['entries'].isnull()]))"
   ]
  },
  {
   "cell_type": "markdown",
   "metadata": {},
   "source": [
    "#### Calculating total activity per turnstile"
   ]
  },
  {
   "cell_type": "code",
   "execution_count": null,
   "metadata": {},
   "outputs": [],
   "source": [
    "mta_sorted['total'] = mta_sorted['entries'] + mta_sorted['exits']"
   ]
  },
  {
   "cell_type": "code",
   "execution_count": null,
   "metadata": {},
   "outputs": [],
   "source": [
    "mta_sorted.head()"
   ]
  },
  {
   "cell_type": "markdown",
   "metadata": {},
   "source": [
    "#### Creating clean, organized dataframe to be exported as csv and used for analysis"
   ]
  },
  {
   "cell_type": "code",
   "execution_count": null,
   "metadata": {},
   "outputs": [],
   "source": [
    "mta = mta_sorted[['station', \n",
    "                'turnstile',\n",
    "                 'ca',\n",
    "                 'unit',\n",
    "                 'scp',\n",
    "                 'linename',\n",
    "                 'division',\n",
    "                 'date',\n",
    "                 'time',\n",
    "                 'desc',\n",
    "                 'timestamp',\n",
    "                 'entries',\n",
    "                 'exits',\n",
    "                 'total']]"
   ]
  },
  {
   "cell_type": "code",
   "execution_count": null,
   "metadata": {},
   "outputs": [],
   "source": [
    "mta.head()"
   ]
  },
  {
   "cell_type": "code",
   "execution_count": null,
   "metadata": {},
   "outputs": [],
   "source": [
    "del mta_sorted"
   ]
  },
  {
   "cell_type": "markdown",
   "metadata": {},
   "source": [
    "### Export clean dataframe to CSV for later use\n",
    "\n",
    "*NOTE: Saved as zip file for GitHub limits"
   ]
  },
  {
   "cell_type": "code",
   "execution_count": null,
   "metadata": {},
   "outputs": [],
   "source": [
    "mta.to_csv('mta_clean.zip', index=False)"
   ]
  },
  {
   "cell_type": "code",
   "execution_count": null,
   "metadata": {},
   "outputs": [],
   "source": []
  },
  {
   "cell_type": "code",
   "execution_count": null,
   "metadata": {},
   "outputs": [],
   "source": []
  },
  {
   "cell_type": "code",
   "execution_count": null,
   "metadata": {},
   "outputs": [],
   "source": []
  },
  {
   "cell_type": "code",
   "execution_count": null,
   "metadata": {},
   "outputs": [],
   "source": []
  }
 ],
 "metadata": {
  "kernelspec": {
   "display_name": "Python [conda env:metis] *",
   "language": "python",
   "name": "conda-env-metis-py"
  },
  "language_info": {
   "codemirror_mode": {
    "name": "ipython",
    "version": 3
   },
   "file_extension": ".py",
   "mimetype": "text/x-python",
   "name": "python",
   "nbconvert_exporter": "python",
   "pygments_lexer": "ipython3",
   "version": "3.8.5"
  }
 },
 "nbformat": 4,
 "nbformat_minor": 4
}
