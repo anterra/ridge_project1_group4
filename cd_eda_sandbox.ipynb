{
 "cells": [
  {
   "cell_type": "markdown",
   "metadata": {},
   "source": [
    "Chris MTA EDA Sandbox"
   ]
  },
  {
   "cell_type": "code",
   "execution_count": 1,
   "metadata": {},
   "outputs": [],
   "source": [
    "import pandas as pd\n",
    "import numpy as np\n",
    "\n",
    "import matplotlib.pyplot as plt\n",
    "%matplotlib inline"
   ]
  },
  {
   "cell_type": "code",
   "execution_count": 2,
   "metadata": {},
   "outputs": [
    {
     "name": "stderr",
     "output_type": "stream",
     "text": [
      "/Users/scrapfish/opt/anaconda3/envs/metis/lib/python3.8/site-packages/IPython/core/interactiveshell.py:3145: DtypeWarning: Columns (5) have mixed types.Specify dtype option on import or set low_memory=False.\n",
      "  has_raised = await self.run_ast_nodes(code_ast.body, cell_name,\n"
     ]
    }
   ],
   "source": [
    "mta = pd.read_csv('mta_clean.zip', parse_dates=['date', 'timestamp'])"
   ]
  },
  {
   "cell_type": "code",
   "execution_count": 5,
   "metadata": {},
   "outputs": [],
   "source": [
    "# Adding day of week column\n",
    "mta['weekday'] = mta['date'].dt.day_name()"
   ]
  },
  {
   "cell_type": "code",
   "execution_count": 6,
   "metadata": {},
   "outputs": [
    {
     "data": {
      "text/html": [
       "<div>\n",
       "<style scoped>\n",
       "    .dataframe tbody tr th:only-of-type {\n",
       "        vertical-align: middle;\n",
       "    }\n",
       "\n",
       "    .dataframe tbody tr th {\n",
       "        vertical-align: top;\n",
       "    }\n",
       "\n",
       "    .dataframe thead th {\n",
       "        text-align: right;\n",
       "    }\n",
       "</style>\n",
       "<table border=\"1\" class=\"dataframe\">\n",
       "  <thead>\n",
       "    <tr style=\"text-align: right;\">\n",
       "      <th></th>\n",
       "      <th>station</th>\n",
       "      <th>turnstile</th>\n",
       "      <th>ca</th>\n",
       "      <th>unit</th>\n",
       "      <th>scp</th>\n",
       "      <th>linename</th>\n",
       "      <th>division</th>\n",
       "      <th>date</th>\n",
       "      <th>time</th>\n",
       "      <th>desc</th>\n",
       "      <th>timestamp</th>\n",
       "      <th>entries</th>\n",
       "      <th>exits</th>\n",
       "      <th>total</th>\n",
       "      <th>weekday</th>\n",
       "    </tr>\n",
       "  </thead>\n",
       "  <tbody>\n",
       "    <tr>\n",
       "      <th>0</th>\n",
       "      <td>1 AV</td>\n",
       "      <td>1 AV-H007-R248-00-00-00</td>\n",
       "      <td>H007</td>\n",
       "      <td>R248</td>\n",
       "      <td>00-00-00</td>\n",
       "      <td>L</td>\n",
       "      <td>BMT</td>\n",
       "      <td>2019-07-13</td>\n",
       "      <td>04:00:00</td>\n",
       "      <td>REGULAR</td>\n",
       "      <td>2019-07-13 04:00:00</td>\n",
       "      <td>0.0</td>\n",
       "      <td>0.0</td>\n",
       "      <td>0.0</td>\n",
       "      <td>Saturday</td>\n",
       "    </tr>\n",
       "    <tr>\n",
       "      <th>1</th>\n",
       "      <td>1 AV</td>\n",
       "      <td>1 AV-H007-R248-00-00-00</td>\n",
       "      <td>H007</td>\n",
       "      <td>R248</td>\n",
       "      <td>00-00-00</td>\n",
       "      <td>L</td>\n",
       "      <td>BMT</td>\n",
       "      <td>2019-07-13</td>\n",
       "      <td>08:00:00</td>\n",
       "      <td>REGULAR</td>\n",
       "      <td>2019-07-13 08:00:00</td>\n",
       "      <td>0.0</td>\n",
       "      <td>3.0</td>\n",
       "      <td>3.0</td>\n",
       "      <td>Saturday</td>\n",
       "    </tr>\n",
       "    <tr>\n",
       "      <th>2</th>\n",
       "      <td>1 AV</td>\n",
       "      <td>1 AV-H007-R248-00-00-00</td>\n",
       "      <td>H007</td>\n",
       "      <td>R248</td>\n",
       "      <td>00-00-00</td>\n",
       "      <td>L</td>\n",
       "      <td>BMT</td>\n",
       "      <td>2019-07-13</td>\n",
       "      <td>12:00:00</td>\n",
       "      <td>REGULAR</td>\n",
       "      <td>2019-07-13 12:00:00</td>\n",
       "      <td>0.0</td>\n",
       "      <td>0.0</td>\n",
       "      <td>0.0</td>\n",
       "      <td>Saturday</td>\n",
       "    </tr>\n",
       "    <tr>\n",
       "      <th>3</th>\n",
       "      <td>1 AV</td>\n",
       "      <td>1 AV-H007-R248-00-00-00</td>\n",
       "      <td>H007</td>\n",
       "      <td>R248</td>\n",
       "      <td>00-00-00</td>\n",
       "      <td>L</td>\n",
       "      <td>BMT</td>\n",
       "      <td>2019-07-13</td>\n",
       "      <td>16:00:00</td>\n",
       "      <td>REGULAR</td>\n",
       "      <td>2019-07-13 16:00:00</td>\n",
       "      <td>0.0</td>\n",
       "      <td>0.0</td>\n",
       "      <td>0.0</td>\n",
       "      <td>Saturday</td>\n",
       "    </tr>\n",
       "    <tr>\n",
       "      <th>4</th>\n",
       "      <td>1 AV</td>\n",
       "      <td>1 AV-H007-R248-00-00-00</td>\n",
       "      <td>H007</td>\n",
       "      <td>R248</td>\n",
       "      <td>00-00-00</td>\n",
       "      <td>L</td>\n",
       "      <td>BMT</td>\n",
       "      <td>2019-07-13</td>\n",
       "      <td>20:00:00</td>\n",
       "      <td>REGULAR</td>\n",
       "      <td>2019-07-13 20:00:00</td>\n",
       "      <td>0.0</td>\n",
       "      <td>2.0</td>\n",
       "      <td>2.0</td>\n",
       "      <td>Saturday</td>\n",
       "    </tr>\n",
       "  </tbody>\n",
       "</table>\n",
       "</div>"
      ],
      "text/plain": [
       "  station                turnstile    ca  unit       scp linename division  \\\n",
       "0    1 AV  1 AV-H007-R248-00-00-00  H007  R248  00-00-00        L      BMT   \n",
       "1    1 AV  1 AV-H007-R248-00-00-00  H007  R248  00-00-00        L      BMT   \n",
       "2    1 AV  1 AV-H007-R248-00-00-00  H007  R248  00-00-00        L      BMT   \n",
       "3    1 AV  1 AV-H007-R248-00-00-00  H007  R248  00-00-00        L      BMT   \n",
       "4    1 AV  1 AV-H007-R248-00-00-00  H007  R248  00-00-00        L      BMT   \n",
       "\n",
       "        date      time     desc           timestamp  entries  exits  total  \\\n",
       "0 2019-07-13  04:00:00  REGULAR 2019-07-13 04:00:00      0.0    0.0    0.0   \n",
       "1 2019-07-13  08:00:00  REGULAR 2019-07-13 08:00:00      0.0    3.0    3.0   \n",
       "2 2019-07-13  12:00:00  REGULAR 2019-07-13 12:00:00      0.0    0.0    0.0   \n",
       "3 2019-07-13  16:00:00  REGULAR 2019-07-13 16:00:00      0.0    0.0    0.0   \n",
       "4 2019-07-13  20:00:00  REGULAR 2019-07-13 20:00:00      0.0    2.0    2.0   \n",
       "\n",
       "    weekday  \n",
       "0  Saturday  \n",
       "1  Saturday  \n",
       "2  Saturday  \n",
       "3  Saturday  \n",
       "4  Saturday  "
      ]
     },
     "execution_count": 6,
     "metadata": {},
     "output_type": "execute_result"
    }
   ],
   "source": [
    "mta.head()"
   ]
  },
  {
   "cell_type": "code",
   "execution_count": 7,
   "metadata": {},
   "outputs": [
    {
     "data": {
      "text/plain": [
       "2033792"
      ]
     },
     "execution_count": 7,
     "metadata": {},
     "output_type": "execute_result"
    }
   ],
   "source": [
    "len(mta)"
   ]
  },
  {
   "cell_type": "code",
   "execution_count": 14,
   "metadata": {},
   "outputs": [],
   "source": [
    "# 3. Daily Turnstile ENTRIES\n",
    "daily_turnstile_entries = mta.groupby(['date', 'station', 'turnstile'])[['entries']].sum().reset_index()"
   ]
  },
  {
   "cell_type": "code",
   "execution_count": 15,
   "metadata": {},
   "outputs": [
    {
     "data": {
      "text/html": [
       "<div>\n",
       "<style scoped>\n",
       "    .dataframe tbody tr th:only-of-type {\n",
       "        vertical-align: middle;\n",
       "    }\n",
       "\n",
       "    .dataframe tbody tr th {\n",
       "        vertical-align: top;\n",
       "    }\n",
       "\n",
       "    .dataframe thead th {\n",
       "        text-align: right;\n",
       "    }\n",
       "</style>\n",
       "<table border=\"1\" class=\"dataframe\">\n",
       "  <thead>\n",
       "    <tr style=\"text-align: right;\">\n",
       "      <th></th>\n",
       "      <th>date</th>\n",
       "      <th>station</th>\n",
       "      <th>turnstile</th>\n",
       "      <th>entries</th>\n",
       "    </tr>\n",
       "  </thead>\n",
       "  <tbody>\n",
       "    <tr>\n",
       "      <th>0</th>\n",
       "      <td>2019-07-13</td>\n",
       "      <td>1 AV</td>\n",
       "      <td>1 AV-H007-R248-00-00-00</td>\n",
       "      <td>0.0</td>\n",
       "    </tr>\n",
       "    <tr>\n",
       "      <th>1</th>\n",
       "      <td>2019-07-13</td>\n",
       "      <td>1 AV</td>\n",
       "      <td>1 AV-H007-R248-00-00-01</td>\n",
       "      <td>0.0</td>\n",
       "    </tr>\n",
       "    <tr>\n",
       "      <th>2</th>\n",
       "      <td>2019-07-13</td>\n",
       "      <td>1 AV</td>\n",
       "      <td>1 AV-H007-R248-00-03-00</td>\n",
       "      <td>0.0</td>\n",
       "    </tr>\n",
       "    <tr>\n",
       "      <th>3</th>\n",
       "      <td>2019-07-13</td>\n",
       "      <td>1 AV</td>\n",
       "      <td>1 AV-H007-R248-00-03-01</td>\n",
       "      <td>0.0</td>\n",
       "    </tr>\n",
       "    <tr>\n",
       "      <th>4</th>\n",
       "      <td>2019-07-13</td>\n",
       "      <td>1 AV</td>\n",
       "      <td>1 AV-H007-R248-00-03-02</td>\n",
       "      <td>0.0</td>\n",
       "    </tr>\n",
       "  </tbody>\n",
       "</table>\n",
       "</div>"
      ],
      "text/plain": [
       "        date station                turnstile  entries\n",
       "0 2019-07-13    1 AV  1 AV-H007-R248-00-00-00      0.0\n",
       "1 2019-07-13    1 AV  1 AV-H007-R248-00-00-01      0.0\n",
       "2 2019-07-13    1 AV  1 AV-H007-R248-00-03-00      0.0\n",
       "3 2019-07-13    1 AV  1 AV-H007-R248-00-03-01      0.0\n",
       "4 2019-07-13    1 AV  1 AV-H007-R248-00-03-02      0.0"
      ]
     },
     "execution_count": 15,
     "metadata": {},
     "output_type": "execute_result"
    }
   ],
   "source": [
    "daily_turnstile_entries.head()"
   ]
  },
  {
   "cell_type": "code",
   "execution_count": null,
   "metadata": {},
   "outputs": [],
   "source": []
  },
  {
   "cell_type": "code",
   "execution_count": 36,
   "metadata": {},
   "outputs": [],
   "source": [
    "# 6-7. Daily Turnstile Activy at 4AV-9 ST\n",
    "bk_station = daily_turnstile_entries[daily_turnstile_entries['station'] == '4AV-9 ST']"
   ]
  },
  {
   "cell_type": "code",
   "execution_count": 37,
   "metadata": {},
   "outputs": [
    {
     "data": {
      "text/html": [
       "<div>\n",
       "<style scoped>\n",
       "    .dataframe tbody tr th:only-of-type {\n",
       "        vertical-align: middle;\n",
       "    }\n",
       "\n",
       "    .dataframe tbody tr th {\n",
       "        vertical-align: top;\n",
       "    }\n",
       "\n",
       "    .dataframe thead th {\n",
       "        text-align: right;\n",
       "    }\n",
       "</style>\n",
       "<table border=\"1\" class=\"dataframe\">\n",
       "  <thead>\n",
       "    <tr style=\"text-align: right;\">\n",
       "      <th></th>\n",
       "      <th>date</th>\n",
       "      <th>station</th>\n",
       "      <th>turnstile</th>\n",
       "      <th>entries</th>\n",
       "    </tr>\n",
       "  </thead>\n",
       "  <tbody>\n",
       "    <tr>\n",
       "      <th>1120</th>\n",
       "      <td>2019-07-13</td>\n",
       "      <td>4AV-9 ST</td>\n",
       "      <td>4AV-9 ST-C012-R258-01-00-00</td>\n",
       "      <td>483.0</td>\n",
       "    </tr>\n",
       "    <tr>\n",
       "      <th>1121</th>\n",
       "      <td>2019-07-13</td>\n",
       "      <td>4AV-9 ST</td>\n",
       "      <td>4AV-9 ST-C012-R258-01-00-01</td>\n",
       "      <td>271.0</td>\n",
       "    </tr>\n",
       "    <tr>\n",
       "      <th>1122</th>\n",
       "      <td>2019-07-13</td>\n",
       "      <td>4AV-9 ST</td>\n",
       "      <td>4AV-9 ST-C012-R258-01-00-02</td>\n",
       "      <td>183.0</td>\n",
       "    </tr>\n",
       "    <tr>\n",
       "      <th>1123</th>\n",
       "      <td>2019-07-13</td>\n",
       "      <td>4AV-9 ST</td>\n",
       "      <td>4AV-9 ST-C012-R258-01-00-03</td>\n",
       "      <td>107.0</td>\n",
       "    </tr>\n",
       "    <tr>\n",
       "      <th>1124</th>\n",
       "      <td>2019-07-13</td>\n",
       "      <td>4AV-9 ST</td>\n",
       "      <td>4AV-9 ST-C012-R258-01-03-00</td>\n",
       "      <td>671.0</td>\n",
       "    </tr>\n",
       "  </tbody>\n",
       "</table>\n",
       "</div>"
      ],
      "text/plain": [
       "           date   station                    turnstile  entries\n",
       "1120 2019-07-13  4AV-9 ST  4AV-9 ST-C012-R258-01-00-00    483.0\n",
       "1121 2019-07-13  4AV-9 ST  4AV-9 ST-C012-R258-01-00-01    271.0\n",
       "1122 2019-07-13  4AV-9 ST  4AV-9 ST-C012-R258-01-00-02    183.0\n",
       "1123 2019-07-13  4AV-9 ST  4AV-9 ST-C012-R258-01-00-03    107.0\n",
       "1124 2019-07-13  4AV-9 ST  4AV-9 ST-C012-R258-01-03-00    671.0"
      ]
     },
     "execution_count": 37,
     "metadata": {},
     "output_type": "execute_result"
    }
   ],
   "source": [
    "bk_station.head()"
   ]
  },
  {
   "cell_type": "code",
   "execution_count": 53,
   "metadata": {},
   "outputs": [
    {
     "data": {
      "image/png": "[encoded data removed]",
      "text/plain": [
       "<Figure size 1008x360 with 1 Axes>"
      ]
     },
     "metadata": {
      "needs_background": "light"
     },
     "output_type": "display_data"
    }
   ],
   "source": [
    "days = bk_station['date']\n",
    "entries = bk_station['entries']\n",
    "\n",
    "plt.figure(figsize=(14,5))\n",
    "plt.bar(days,entries)\n",
    "\n",
    "plt.xlabel('Date')\n",
    "plt.ylabel('Entries')\n",
    "plt.title('Daily Entries at 4AV-9 ST Station in Brooklyn')\n",
    "\n",
    "plt.show()"
   ]
  },
  {
   "cell_type": "code",
   "execution_count": null,
   "metadata": {},
   "outputs": [],
   "source": []
  },
  {
   "cell_type": "code",
   "execution_count": null,
   "metadata": {},
   "outputs": [],
   "source": []
  },
  {
   "cell_type": "code",
   "execution_count": null,
   "metadata": {},
   "outputs": [],
   "source": []
  },
  {
   "cell_type": "code",
   "execution_count": null,
   "metadata": {},
   "outputs": [],
   "source": []
  },
  {
   "cell_type": "code",
   "execution_count": 40,
   "metadata": {},
   "outputs": [],
   "source": [
    "# I probably rode at this station on 8/31/2019\n",
    "bk_station_0831 = bk_station[bk_station['date'] == '2019-08-31']"
   ]
  },
  {
   "cell_type": "code",
   "execution_count": 43,
   "metadata": {},
   "outputs": [
    {
     "data": {
      "text/html": [
       "<div>\n",
       "<style scoped>\n",
       "    .dataframe tbody tr th:only-of-type {\n",
       "        vertical-align: middle;\n",
       "    }\n",
       "\n",
       "    .dataframe tbody tr th {\n",
       "        vertical-align: top;\n",
       "    }\n",
       "\n",
       "    .dataframe thead th {\n",
       "        text-align: right;\n",
       "    }\n",
       "</style>\n",
       "<table border=\"1\" class=\"dataframe\">\n",
       "  <thead>\n",
       "    <tr style=\"text-align: right;\">\n",
       "      <th></th>\n",
       "      <th>date</th>\n",
       "      <th>station</th>\n",
       "      <th>turnstile</th>\n",
       "      <th>entries</th>\n",
       "    </tr>\n",
       "  </thead>\n",
       "  <tbody>\n",
       "    <tr>\n",
       "      <th>237777</th>\n",
       "      <td>2019-08-31</td>\n",
       "      <td>4AV-9 ST</td>\n",
       "      <td>4AV-9 ST-C012-R258-01-00-00</td>\n",
       "      <td>566.0</td>\n",
       "    </tr>\n",
       "    <tr>\n",
       "      <th>237778</th>\n",
       "      <td>2019-08-31</td>\n",
       "      <td>4AV-9 ST</td>\n",
       "      <td>4AV-9 ST-C012-R258-01-00-01</td>\n",
       "      <td>406.0</td>\n",
       "    </tr>\n",
       "    <tr>\n",
       "      <th>237779</th>\n",
       "      <td>2019-08-31</td>\n",
       "      <td>4AV-9 ST</td>\n",
       "      <td>4AV-9 ST-C012-R258-01-00-02</td>\n",
       "      <td>255.0</td>\n",
       "    </tr>\n",
       "    <tr>\n",
       "      <th>237780</th>\n",
       "      <td>2019-08-31</td>\n",
       "      <td>4AV-9 ST</td>\n",
       "      <td>4AV-9 ST-C012-R258-01-00-03</td>\n",
       "      <td>138.0</td>\n",
       "    </tr>\n",
       "    <tr>\n",
       "      <th>237781</th>\n",
       "      <td>2019-08-31</td>\n",
       "      <td>4AV-9 ST</td>\n",
       "      <td>4AV-9 ST-C012-R258-01-03-00</td>\n",
       "      <td>693.0</td>\n",
       "    </tr>\n",
       "    <tr>\n",
       "      <th>237782</th>\n",
       "      <td>2019-08-31</td>\n",
       "      <td>4AV-9 ST</td>\n",
       "      <td>4AV-9 ST-C012-R258-01-03-01</td>\n",
       "      <td>474.0</td>\n",
       "    </tr>\n",
       "    <tr>\n",
       "      <th>237783</th>\n",
       "      <td>2019-08-31</td>\n",
       "      <td>4AV-9 ST</td>\n",
       "      <td>4AV-9 ST-C012-R258-01-03-02</td>\n",
       "      <td>492.0</td>\n",
       "    </tr>\n",
       "    <tr>\n",
       "      <th>237784</th>\n",
       "      <td>2019-08-31</td>\n",
       "      <td>4AV-9 ST</td>\n",
       "      <td>4AV-9 ST-C012-R258-01-03-03</td>\n",
       "      <td>942.0</td>\n",
       "    </tr>\n",
       "    <tr>\n",
       "      <th>237785</th>\n",
       "      <td>2019-08-31</td>\n",
       "      <td>4AV-9 ST</td>\n",
       "      <td>4AV-9 ST-C012-R258-01-06-00</td>\n",
       "      <td>120.0</td>\n",
       "    </tr>\n",
       "    <tr>\n",
       "      <th>237786</th>\n",
       "      <td>2019-08-31</td>\n",
       "      <td>4AV-9 ST</td>\n",
       "      <td>4AV-9 ST-C012-R258-01-06-01</td>\n",
       "      <td>212.0</td>\n",
       "    </tr>\n",
       "    <tr>\n",
       "      <th>237787</th>\n",
       "      <td>2019-08-31</td>\n",
       "      <td>4AV-9 ST</td>\n",
       "      <td>4AV-9 ST-C012-R258-01-06-02</td>\n",
       "      <td>513.0</td>\n",
       "    </tr>\n",
       "  </tbody>\n",
       "</table>\n",
       "</div>"
      ],
      "text/plain": [
       "             date   station                    turnstile  entries\n",
       "237777 2019-08-31  4AV-9 ST  4AV-9 ST-C012-R258-01-00-00    566.0\n",
       "237778 2019-08-31  4AV-9 ST  4AV-9 ST-C012-R258-01-00-01    406.0\n",
       "237779 2019-08-31  4AV-9 ST  4AV-9 ST-C012-R258-01-00-02    255.0\n",
       "237780 2019-08-31  4AV-9 ST  4AV-9 ST-C012-R258-01-00-03    138.0\n",
       "237781 2019-08-31  4AV-9 ST  4AV-9 ST-C012-R258-01-03-00    693.0\n",
       "237782 2019-08-31  4AV-9 ST  4AV-9 ST-C012-R258-01-03-01    474.0\n",
       "237783 2019-08-31  4AV-9 ST  4AV-9 ST-C012-R258-01-03-02    492.0\n",
       "237784 2019-08-31  4AV-9 ST  4AV-9 ST-C012-R258-01-03-03    942.0\n",
       "237785 2019-08-31  4AV-9 ST  4AV-9 ST-C012-R258-01-06-00    120.0\n",
       "237786 2019-08-31  4AV-9 ST  4AV-9 ST-C012-R258-01-06-01    212.0\n",
       "237787 2019-08-31  4AV-9 ST  4AV-9 ST-C012-R258-01-06-02    513.0"
      ]
     },
     "execution_count": 43,
     "metadata": {},
     "output_type": "execute_result"
    }
   ],
   "source": [
    "bk_station_0831"
   ]
  },
  {
   "cell_type": "code",
   "execution_count": 44,
   "metadata": {},
   "outputs": [],
   "source": [
    "# 4. Pick a random turnstile: 4AV-9 ST-C012-R258-01-00-00\n",
    "\n",
    "bk_turnstile = bk_station[bk_station['turnstile'] == '4AV-9 ST-C012-R258-01-00-00']"
   ]
  },
  {
   "cell_type": "code",
   "execution_count": 54,
   "metadata": {},
   "outputs": [
    {
     "data": {
      "text/html": [
       "<div>\n",
       "<style scoped>\n",
       "    .dataframe tbody tr th:only-of-type {\n",
       "        vertical-align: middle;\n",
       "    }\n",
       "\n",
       "    .dataframe tbody tr th {\n",
       "        vertical-align: top;\n",
       "    }\n",
       "\n",
       "    .dataframe thead th {\n",
       "        text-align: right;\n",
       "    }\n",
       "</style>\n",
       "<table border=\"1\" class=\"dataframe\">\n",
       "  <thead>\n",
       "    <tr style=\"text-align: right;\">\n",
       "      <th></th>\n",
       "      <th>date</th>\n",
       "      <th>station</th>\n",
       "      <th>turnstile</th>\n",
       "      <th>entries</th>\n",
       "    </tr>\n",
       "  </thead>\n",
       "  <tbody>\n",
       "    <tr>\n",
       "      <th>1120</th>\n",
       "      <td>2019-07-13</td>\n",
       "      <td>4AV-9 ST</td>\n",
       "      <td>4AV-9 ST-C012-R258-01-00-00</td>\n",
       "      <td>483.0</td>\n",
       "    </tr>\n",
       "    <tr>\n",
       "      <th>5959</th>\n",
       "      <td>2019-07-14</td>\n",
       "      <td>4AV-9 ST</td>\n",
       "      <td>4AV-9 ST-C012-R258-01-00-00</td>\n",
       "      <td>412.0</td>\n",
       "    </tr>\n",
       "    <tr>\n",
       "      <th>10798</th>\n",
       "      <td>2019-07-15</td>\n",
       "      <td>4AV-9 ST</td>\n",
       "      <td>4AV-9 ST-C012-R258-01-00-00</td>\n",
       "      <td>1199.0</td>\n",
       "    </tr>\n",
       "    <tr>\n",
       "      <th>15637</th>\n",
       "      <td>2019-07-16</td>\n",
       "      <td>4AV-9 ST</td>\n",
       "      <td>4AV-9 ST-C012-R258-01-00-00</td>\n",
       "      <td>1342.0</td>\n",
       "    </tr>\n",
       "    <tr>\n",
       "      <th>20471</th>\n",
       "      <td>2019-07-17</td>\n",
       "      <td>4AV-9 ST</td>\n",
       "      <td>4AV-9 ST-C012-R258-01-00-00</td>\n",
       "      <td>1354.0</td>\n",
       "    </tr>\n",
       "  </tbody>\n",
       "</table>\n",
       "</div>"
      ],
      "text/plain": [
       "            date   station                    turnstile  entries\n",
       "1120  2019-07-13  4AV-9 ST  4AV-9 ST-C012-R258-01-00-00    483.0\n",
       "5959  2019-07-14  4AV-9 ST  4AV-9 ST-C012-R258-01-00-00    412.0\n",
       "10798 2019-07-15  4AV-9 ST  4AV-9 ST-C012-R258-01-00-00   1199.0\n",
       "15637 2019-07-16  4AV-9 ST  4AV-9 ST-C012-R258-01-00-00   1342.0\n",
       "20471 2019-07-17  4AV-9 ST  4AV-9 ST-C012-R258-01-00-00   1354.0"
      ]
     },
     "execution_count": 54,
     "metadata": {},
     "output_type": "execute_result"
    }
   ],
   "source": [
    "bk_turnstile.head()"
   ]
  },
  {
   "cell_type": "code",
   "execution_count": 47,
   "metadata": {},
   "outputs": [
    {
     "data": {
      "image/png": "[encoded data removed]",
      "text/plain": [
       "<Figure size 720x216 with 1 Axes>"
      ]
     },
     "metadata": {
      "needs_background": "light"
     },
     "output_type": "display_data"
    }
   ],
   "source": [
    "days = bk_turnstile['date']\n",
    "entries = bk_turnstile['entries']\n",
    "\n",
    "plt.figure(figsize=(10,3))\n",
    "plt.plot(days,entries)\n",
    "\n",
    "plt.xlabel('Date')\n",
    "plt.ylabel('Entries')\n",
    "plt.title('Daily Entries through a Random Turnstile at 4AV-9 ST Station')\n",
    "\n",
    "plt.show()"
   ]
  },
  {
   "cell_type": "code",
   "execution_count": null,
   "metadata": {},
   "outputs": [],
   "source": []
  },
  {
   "cell_type": "code",
   "execution_count": 16,
   "metadata": {},
   "outputs": [],
   "source": [
    "# Daily Station ENTRIES\n",
    "daily_station_entries = mta.groupby(['date', 'station'])[['entries']].sum().reset_index()"
   ]
  },
  {
   "cell_type": "code",
   "execution_count": 17,
   "metadata": {
    "scrolled": false
   },
   "outputs": [
    {
     "data": {
      "text/html": [
       "<div>\n",
       "<style scoped>\n",
       "    .dataframe tbody tr th:only-of-type {\n",
       "        vertical-align: middle;\n",
       "    }\n",
       "\n",
       "    .dataframe tbody tr th {\n",
       "        vertical-align: top;\n",
       "    }\n",
       "\n",
       "    .dataframe thead th {\n",
       "        text-align: right;\n",
       "    }\n",
       "</style>\n",
       "<table border=\"1\" class=\"dataframe\">\n",
       "  <thead>\n",
       "    <tr style=\"text-align: right;\">\n",
       "      <th></th>\n",
       "      <th>date</th>\n",
       "      <th>station</th>\n",
       "      <th>entries</th>\n",
       "    </tr>\n",
       "  </thead>\n",
       "  <tbody>\n",
       "    <tr>\n",
       "      <th>0</th>\n",
       "      <td>2019-07-13</td>\n",
       "      <td>1 AV</td>\n",
       "      <td>5638.0</td>\n",
       "    </tr>\n",
       "    <tr>\n",
       "      <th>1</th>\n",
       "      <td>2019-07-13</td>\n",
       "      <td>103 ST</td>\n",
       "      <td>7223.0</td>\n",
       "    </tr>\n",
       "    <tr>\n",
       "      <th>2</th>\n",
       "      <td>2019-07-13</td>\n",
       "      <td>103 ST-CORONA</td>\n",
       "      <td>9792.0</td>\n",
       "    </tr>\n",
       "    <tr>\n",
       "      <th>3</th>\n",
       "      <td>2019-07-13</td>\n",
       "      <td>104 ST</td>\n",
       "      <td>1565.0</td>\n",
       "    </tr>\n",
       "    <tr>\n",
       "      <th>4</th>\n",
       "      <td>2019-07-13</td>\n",
       "      <td>110 ST</td>\n",
       "      <td>3830.0</td>\n",
       "    </tr>\n",
       "  </tbody>\n",
       "</table>\n",
       "</div>"
      ],
      "text/plain": [
       "        date        station  entries\n",
       "0 2019-07-13           1 AV   5638.0\n",
       "1 2019-07-13         103 ST   7223.0\n",
       "2 2019-07-13  103 ST-CORONA   9792.0\n",
       "3 2019-07-13         104 ST   1565.0\n",
       "4 2019-07-13         110 ST   3830.0"
      ]
     },
     "execution_count": 17,
     "metadata": {},
     "output_type": "execute_result"
    }
   ],
   "source": [
    "daily_station_entries.head()"
   ]
  },
  {
   "cell_type": "code",
   "execution_count": null,
   "metadata": {},
   "outputs": [],
   "source": []
  },
  {
   "cell_type": "code",
   "execution_count": null,
   "metadata": {},
   "outputs": [],
   "source": []
  },
  {
   "cell_type": "code",
   "execution_count": null,
   "metadata": {},
   "outputs": [],
   "source": [
    "# fussing with top 10 average daily entries by station"
   ]
  },
  {
   "cell_type": "code",
   "execution_count": 29,
   "metadata": {},
   "outputs": [],
   "source": [
    "top10_daily_station_entries = daily_station_entries.groupby(['station'])[['entries']].mean().reset_index()"
   ]
  },
  {
   "cell_type": "code",
   "execution_count": 31,
   "metadata": {},
   "outputs": [],
   "source": [
    "top10_daily_station_entries = top10_daily_station_entries.nlargest(10, 'entries')"
   ]
  },
  {
   "cell_type": "code",
   "execution_count": 32,
   "metadata": {
    "scrolled": true
   },
   "outputs": [
    {
     "data": {
      "text/html": [
       "<div>\n",
       "<style scoped>\n",
       "    .dataframe tbody tr th:only-of-type {\n",
       "        vertical-align: middle;\n",
       "    }\n",
       "\n",
       "    .dataframe tbody tr th {\n",
       "        vertical-align: top;\n",
       "    }\n",
       "\n",
       "    .dataframe thead th {\n",
       "        text-align: right;\n",
       "    }\n",
       "</style>\n",
       "<table border=\"1\" class=\"dataframe\">\n",
       "  <thead>\n",
       "    <tr style=\"text-align: right;\">\n",
       "      <th></th>\n",
       "      <th>station</th>\n",
       "      <th>entries</th>\n",
       "    </tr>\n",
       "  </thead>\n",
       "  <tbody>\n",
       "    <tr>\n",
       "      <th>61</th>\n",
       "      <td>34 ST-PENN STA</td>\n",
       "      <td>138313.542857</td>\n",
       "    </tr>\n",
       "    <tr>\n",
       "      <th>232</th>\n",
       "      <td>GRD CNTRL-42 ST</td>\n",
       "      <td>116549.042857</td>\n",
       "    </tr>\n",
       "    <tr>\n",
       "      <th>59</th>\n",
       "      <td>34 ST-HERALD SQ</td>\n",
       "      <td>102610.428571</td>\n",
       "    </tr>\n",
       "    <tr>\n",
       "      <th>46</th>\n",
       "      <td>23 ST</td>\n",
       "      <td>93681.100000</td>\n",
       "    </tr>\n",
       "    <tr>\n",
       "      <th>352</th>\n",
       "      <td>TIMES SQ-42 ST</td>\n",
       "      <td>85955.442857</td>\n",
       "    </tr>\n",
       "    <tr>\n",
       "      <th>14</th>\n",
       "      <td>14 ST-UNION SQ</td>\n",
       "      <td>84739.100000</td>\n",
       "    </tr>\n",
       "    <tr>\n",
       "      <th>225</th>\n",
       "      <td>FULTON ST</td>\n",
       "      <td>81197.742857</td>\n",
       "    </tr>\n",
       "    <tr>\n",
       "      <th>68</th>\n",
       "      <td>42 ST-PORT AUTH</td>\n",
       "      <td>79097.871429</td>\n",
       "    </tr>\n",
       "    <tr>\n",
       "      <th>110</th>\n",
       "      <td>86 ST</td>\n",
       "      <td>67839.442857</td>\n",
       "    </tr>\n",
       "    <tr>\n",
       "      <th>9</th>\n",
       "      <td>125 ST</td>\n",
       "      <td>65181.757143</td>\n",
       "    </tr>\n",
       "  </tbody>\n",
       "</table>\n",
       "</div>"
      ],
      "text/plain": [
       "             station        entries\n",
       "61    34 ST-PENN STA  138313.542857\n",
       "232  GRD CNTRL-42 ST  116549.042857\n",
       "59   34 ST-HERALD SQ  102610.428571\n",
       "46             23 ST   93681.100000\n",
       "352   TIMES SQ-42 ST   85955.442857\n",
       "14    14 ST-UNION SQ   84739.100000\n",
       "225        FULTON ST   81197.742857\n",
       "68   42 ST-PORT AUTH   79097.871429\n",
       "110            86 ST   67839.442857\n",
       "9             125 ST   65181.757143"
      ]
     },
     "execution_count": 32,
     "metadata": {},
     "output_type": "execute_result"
    }
   ],
   "source": [
    "top10_daily_station_entries"
   ]
  },
  {
   "cell_type": "code",
   "execution_count": 33,
   "metadata": {},
   "outputs": [
    {
     "data": {
      "image/png": "[encoded data removed]",
      "text/plain": [
       "<Figure size 720x504 with 1 Axes>"
      ]
     },
     "metadata": {
      "needs_background": "light"
     },
     "output_type": "display_data"
    }
   ],
   "source": [
    "stations = top10_daily_station_entries['station']\n",
    "entries = top10_daily_station_entries['entries']\n",
    "\n",
    "plt.figure(figsize=(10,7))\n",
    "plt.barh(stations, entries, color='blue')\n",
    "plt.xlabel(\"Average Daily Entries\")\n",
    "plt.ylabel(\"Stations\")\n",
    "plt.title(\"Top 10 Stations: Average Daily Ridership\")\n",
    "\n",
    "plt.show()"
   ]
  }
 ],
 "metadata": {
  "kernelspec": {
   "display_name": "Python [conda env:metis] *",
   "language": "python",
   "name": "conda-env-metis-py"
  },
  "language_info": {
   "codemirror_mode": {
    "name": "ipython",
    "version": 3
   },
   "file_extension": ".py",
   "mimetype": "text/x-python",
   "name": "python",
   "nbconvert_exporter": "python",
   "pygments_lexer": "ipython3",
   "version": "3.8.5"
  }
 },
 "nbformat": 4,
 "nbformat_minor": 4
}
